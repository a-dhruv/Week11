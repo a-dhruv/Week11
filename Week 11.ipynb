{
 "cells": [
  {
   "cell_type": "markdown",
   "metadata": {},
   "source": [
    "# Q 8.4.1"
   ]
  },
  {
   "cell_type": "markdown",
   "metadata": {},
   "source": [
    "Build 2D decision tree\n",
    "\n",
    "Keep splitting in the regions in half "
   ]
  },
  {
   "cell_type": "code",
   "execution_count": 18,
   "metadata": {},
   "outputs": [
    {
     "data": {
      "image/png": "[encoded data removed]",
      "text/plain": [
       "plot without title"
      ]
     },
     "metadata": {},
     "output_type": "display_data"
    }
   ],
   "source": [
    "par(xpd = NA)\n",
    "plot(NA, NA, type = \"n\", xlim = c(0,100), ylim = c(0,100), xlab = \"X\", ylab = \"Y\")\n",
    "# t1: x = 40; (40, 0) (40, 100)\n",
    "lines(x = c(50,50), y = c(0,100))\n",
    "text(x = 50, y = 106, labels = c(\"t1\"), col = \"red\")\n",
    "\n",
    "lines(x = c(0,50), y = c(50,50))\n",
    "text(x = -6, y = 50, labels = c(\"t2\"), col = \"red\")\n",
    "\n",
    "lines(y = c(0,50), x = c(25,25))\n",
    "text(y = -6, x = 25, labels = c(\"t3\"), col = \"red\")\n",
    "\n",
    "lines(x = c(25,50), y = c(25,25))\n",
    "text(x = 23.5, y = 25, labels = c(\"t4\"), col = \"red\")\n",
    "\n",
    "lines(y = c(0,25), x = c(37.5,37.5))\n",
    "text(y = -6, x = 37.5, labels = c(\"t5\"), col = \"red\")\n",
    "\n",
    "\n",
    "text(x = 25, y = 74, labels = c(\"R1\"))\n",
    "text(x = 75, y = 50, labels = c(\"R2\"))\n",
    "text(x = 12.5, y = 25, labels = c(\"R3\"))\n",
    "text(x = 37.5, y = 37.5, labels = c(\"R4\"))\n",
    "text(x = 31.25, y = 12.5, labels = c(\"R5\"))\n",
    "text(x = 43.75, y = 12.5, labels = c(\"R6\"))"
   ]
  },
  {
   "cell_type": "code",
   "execution_count": 19,
   "metadata": {},
   "outputs": [
    {
     "ename": "ERROR",
     "evalue": "Error in parse(text = x, srcfile = src): <text>:1:9: unexpected '['\n1:         [\n            ^\n",
     "output_type": "error",
     "traceback": [
      "Error in parse(text = x, srcfile = src): <text>:1:9: unexpected '['\n1:         [\n            ^\nTraceback:\n"
     ]
    }
   ],
   "source": [
    "        [  X<40 ] \n",
    "        |       |\n",
    "    [Y<75]    [X<75]\n",
    "    |   |     |    |\n",
    " [X<20] R2    R1   [Y<25]\n",
    " |    |            |    |\n",
    " R6   R5           R4   R3"
   ]
  },
  {
   "cell_type": "markdown",
   "metadata": {},
   "source": [
    "## Q 8.4.2"
   ]
  },
  {
   "cell_type": "markdown",
   "metadata": {},
   "source": [
    "This is a summation of all of our tree nodes for the entire dataset."
   ]
  },
  {
   "cell_type": "code",
   "execution_count": null,
   "metadata": {},
   "outputs": [],
   "source": [
    "library(\"IRdisplay\")\n",
    "display_png(file=\"Capture1.png\")"
   ]
  },
  {
   "cell_type": "markdown",
   "metadata": {},
   "source": [
    "We begin with the first node in our tree. We build a first node that minimizes our entropy.(reduce the amount of loss)\n",
    "\n",
    "-lamda being the weight function, we being with weight = 1"
   ]
  },
  {
   "cell_type": "code",
   "execution_count": null,
   "metadata": {},
   "outputs": [],
   "source": [
    "display_png(file=\"Capture2.png\")  "
   ]
  },
  {
   "cell_type": "code",
   "execution_count": null,
   "metadata": {},
   "outputs": [],
   "source": [
    "display_png(file=\"Capture3.png\")  \n",
    "display_png(file=\"Capture4.png\")"
   ]
  },
  {
   "cell_type": "markdown",
   "metadata": {},
   "source": [
    "Then we build our second node based on the function line 2. The second node is built off of the errors. (things we didn't correctly identify in the first node)\n",
    "\n",
    "The second node is used to try to predict the errors\n",
    "\n",
    "We progressively build our nodes by increasing the weights of the nodes that are predicting the residual values correctly. "
   ]
  },
  {
   "cell_type": "markdown",
   "metadata": {},
   "source": [
    "# Q 8.4.5"
   ]
  },
  {
   "cell_type": "code",
   "execution_count": null,
   "metadata": {},
   "outputs": [],
   "source": [
    "x = c(0.1, 0.15, 0.2, 0.2, 0.55, 0.6, 0.6, 0.65, 0.7, 0.75)"
   ]
  },
  {
   "cell_type": "markdown",
   "metadata": {},
   "source": [
    "Vote approach"
   ]
  },
  {
   "cell_type": "code",
   "execution_count": null,
   "metadata": {},
   "outputs": [],
   "source": [
    "sum(x >= 0.5) > sum(x < 0.5)"
   ]
  },
  {
   "cell_type": "markdown",
   "metadata": {},
   "source": [
    "Since X > .5 > sum X<.5 the probibility is red."
   ]
  },
  {
   "cell_type": "markdown",
   "metadata": {},
   "source": [
    "Average approach"
   ]
  },
  {
   "cell_type": "code",
   "execution_count": null,
   "metadata": {},
   "outputs": [],
   "source": [
    "mean(x)"
   ]
  },
  {
   "cell_type": "markdown",
   "metadata": {},
   "source": [
    "The average is less than .45, therefore we cannot classify it as red, it is GREEN."
   ]
  },
  {
   "cell_type": "markdown",
   "metadata": {},
   "source": [
    "## Q 8.4.12"
   ]
  },
  {
   "cell_type": "markdown",
   "metadata": {},
   "source": [
    "## INTRO\n",
    "\n",
    "For this problem we chose the dataset \"Default\" from the ISLR library. The dataset contains over a 1000 datapoints.\n",
    "\n",
    "The dataset has four columns, displaying the balance owed, income, whether the individual is a student and if the induvidual defaulted on their loan.\n",
    "\n",
    "The objective of this assignment was to determine whether or not an individual defaults on their loan based on their balance and income. For the sake of simplicity \"student\" was excluded from the calculations.\n",
    "\n"
   ]
  },
  {
   "cell_type": "markdown",
   "metadata": {},
   "source": [
    "## Methodology\n",
    "\n",
    "We will be assessing the effectiveness of boosting, bagging and Random Forests on our test dataset."
   ]
  },
  {
   "cell_type": "code",
   "execution_count": null,
   "metadata": {},
   "outputs": [],
   "source": [
    "library(ISLR)\n",
    "head(Default)\n",
    "set1 = Default\n",
    "summary(set1)\n",
    "library(gbm)\n",
    "library(randomForest)\n",
    "options(warn=-1)"
   ]
  },
  {
   "cell_type": "code",
   "execution_count": null,
   "metadata": {},
   "outputs": [],
   "source": [
    "set.seed(1)\n",
    "train <- sample(nrow(set1), nrow(Weekly) / 2)\n",
    "set1$default <- ifelse(set1$default == \"Yes\", 1, 0)\n",
    "set1.train <- set1[train, ]\n",
    "set1.test <- set1[-train, ]"
   ]
  },
  {
   "cell_type": "code",
   "execution_count": null,
   "metadata": {},
   "outputs": [],
   "source": [
    "head(set1)\n",
    "summary(set1.train)\n",
    "summary(set1.test)"
   ]
  },
  {
   "cell_type": "markdown",
   "metadata": {},
   "source": [
    "## GLM "
   ]
  },
  {
   "cell_type": "code",
   "execution_count": null,
   "metadata": {},
   "outputs": [],
   "source": [
    "logit.fit <- glm(default ~ income + balance, data = set1.train, family = \"binomial\")\n",
    "logit.probs <- predict(logit.fit, newdata = set1.test, type = \"response\")\n",
    "logit.pred <- ifelse(logit.probs > 0.5, 1, 0)\n",
    "table(set1.test$default, logit.pred)"
   ]
  },
  {
   "cell_type": "markdown",
   "metadata": {},
   "source": [
    "163 + 123 = X\n",
    "X + 9016 + 154 = Y\n",
    "\n",
    "X/Y = ERROR RATE\n",
    "\n",
    "ERROR RATE = 286/9456 = 0.03024"
   ]
  },
  {
   "cell_type": "markdown",
   "metadata": {},
   "source": [
    "## Boosting"
   ]
  },
  {
   "cell_type": "code",
   "execution_count": null,
   "metadata": {},
   "outputs": [],
   "source": [
    "boost.fit <- gbm(default ~ . - student, data = set1.train, distribution = \"bernoulli\", n.trees = 5000)\n",
    "boost.probs <- predict(boost.fit, newdata = set1.test, n.trees = 5000)\n",
    "boost.pred <- ifelse(boost.probs > 0.5, 1, 0)\n",
    "table(set1.test$default, boost.pred)"
   ]
  },
  {
   "cell_type": "markdown",
   "metadata": {},
   "source": [
    "290+20 = 310\n",
    "\n",
    "310 + 9119 + 27 = 9456\n",
    "\n",
    "ERROR RATE = 310/9456 = 0.03278"
   ]
  },
  {
   "cell_type": "code",
   "execution_count": null,
   "metadata": {},
   "outputs": [],
   "source": [
    "bag.fit <- randomForest(default ~ . - student, data = set1.train, mtry = 6)"
   ]
  },
  {
   "cell_type": "code",
   "execution_count": null,
   "metadata": {},
   "outputs": [],
   "source": [
    "bag.probs <- predict(bag.fit, newdata = set1.test)\n",
    "bag.pred <- ifelse(bag.probs > 0.5, 1, 0)\n",
    "table(set1.test$default, bag.pred)"
   ]
  },
  {
   "cell_type": "markdown",
   "metadata": {},
   "source": [
    "164+188 = 352\n",
    "\n",
    "352+8951+153 = 9456\n",
    "\n",
    "ERROR RATE = 352/9456 = 0.03722"
   ]
  },
  {
   "cell_type": "code",
   "execution_count": null,
   "metadata": {},
   "outputs": [],
   "source": [
    "rf.fit <- randomForest(default ~ . - student, data = set1.train, mtry = 2)"
   ]
  },
  {
   "cell_type": "code",
   "execution_count": null,
   "metadata": {},
   "outputs": [],
   "source": [
    "rf.probs <- predict(rf.fit, newdata = set1.test)\n",
    "rf.pred <- ifelse(rf.probs > 0.5, 1, 0)\n",
    "table(set1.test$default, rf.pred)"
   ]
  },
  {
   "cell_type": "markdown",
   "metadata": {},
   "source": [
    "160+202 = 362\n",
    "\n",
    "362+8937+157 = 9456\n",
    "\n",
    "ERROR RATE = 362/9456 = 0.03828"
   ]
  },
  {
   "cell_type": "markdown",
   "metadata": {},
   "source": [
    "# RANDOM FOREST VS BAGGING VS BOOSTING\n",
    "\n",
    "Bootstrap Aggregating or Bagging \n",
    "It works by taking random samples from within the data with replacement, therefore the total size of the training set remains the same.\n",
    "The benifits of bagging can be capitalized if the data has high variance, however if the data is stable( lacks variance) bagging can increase error.\n",
    "    \n",
    "Random Forest\n",
    "It is a collection of unpruned decision or regression trees.Each tree is built on a bootstrap sample and a subset of feature are considered at each split. Bagging tends to create correlated trees, Random Forest model randomizes the sample to prevent this. However because of the way it works, Random Forests is prone to overfitting.\n",
    "\n",
    "Boosting\n",
    "Boosting is similar to bagging in many ways, however it does not sample the data randomly. It assigns a weight to each observation and uses that weight for sample distribution. Higher weight = Sample is harder to classify "
   ]
  },
  {
   "cell_type": "code",
   "execution_count": null,
   "metadata": {},
   "outputs": [],
   "source": []
  }
 ],
 "metadata": {
  "kernelspec": {
   "display_name": "R",
   "language": "R",
   "name": "ir"
  },
  "language_info": {
   "codemirror_mode": "r",
   "file_extension": ".r",
   "mimetype": "text/x-r-source",
   "name": "R",
   "pygments_lexer": "r",
   "version": "3.4.3"
  }
 },
 "nbformat": 4,
 "nbformat_minor": 2
}
